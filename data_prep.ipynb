{
 "cells": [
  {
   "cell_type": "code",
   "execution_count": 2,
   "metadata": {},
   "outputs": [
    {
     "name": "stderr",
     "output_type": "stream",
     "text": [
      "/home/joao/virtualenvs/esquizo/lib/python3.6/importlib/_bootstrap.py:219: RuntimeWarning: numpy.dtype size changed, may indicate binary incompatibility. Expected 96, got 88\n",
      "  return f(*args, **kwds)\n",
      "/home/joao/virtualenvs/esquizo/lib/python3.6/importlib/_bootstrap.py:219: RuntimeWarning: numpy.dtype size changed, may indicate binary incompatibility. Expected 96, got 88\n",
      "  return f(*args, **kwds)\n"
     ]
    }
   ],
   "source": [
    "import pandas as pd"
   ]
  },
  {
   "cell_type": "code",
   "execution_count": 3,
   "metadata": {
    "collapsed": true
   },
   "outputs": [],
   "source": [
    "df = pd.read_csv('conversas_mexidas.csv',dtype=str)"
   ]
  },
  {
   "cell_type": "code",
   "execution_count": 4,
   "metadata": {},
   "outputs": [
    {
     "name": "stdout",
     "output_type": "stream",
     "text": [
      "Index(['Unnamed: 0', 'Conversa', 'Label'], dtype='object')\n"
     ]
    }
   ],
   "source": [
    "print(df.columns)"
   ]
  },
  {
   "cell_type": "code",
   "execution_count": 5,
   "metadata": {},
   "outputs": [
    {
     "data": {
      "text/html": [
       "<div>\n",
       "<style scoped>\n",
       "    .dataframe tbody tr th:only-of-type {\n",
       "        vertical-align: middle;\n",
       "    }\n",
       "\n",
       "    .dataframe tbody tr th {\n",
       "        vertical-align: top;\n",
       "    }\n",
       "\n",
       "    .dataframe thead th {\n",
       "        text-align: right;\n",
       "    }\n",
       "</style>\n",
       "<table border=\"1\" class=\"dataframe\">\n",
       "  <thead>\n",
       "    <tr style=\"text-align: right;\">\n",
       "      <th></th>\n",
       "      <th>Unnamed: 0</th>\n",
       "      <th>Conversa</th>\n",
       "      <th>Label</th>\n",
       "    </tr>\n",
       "  </thead>\n",
       "  <tbody>\n",
       "    <tr>\n",
       "      <th>0</th>\n",
       "      <td>0</td>\n",
       "      <td>podemos fazer isso rápido? roxanne korrine e a...</td>\n",
       "      <td>cmq</td>\n",
       "    </tr>\n",
       "    <tr>\n",
       "      <th>1</th>\n",
       "      <td>1</td>\n",
       "      <td>bem, eu pensei que começaríamos com a pronúnci...</td>\n",
       "      <td>cma</td>\n",
       "    </tr>\n",
       "    <tr>\n",
       "      <th>2</th>\n",
       "      <td>2</td>\n",
       "      <td>não o hacking e engasgos e cuspir parte. por f...</td>\n",
       "      <td>cms</td>\n",
       "    </tr>\n",
       "    <tr>\n",
       "      <th>3</th>\n",
       "      <td>3</td>\n",
       "      <td>ok, então que tal experimentarmos uma cozinha ...</td>\n",
       "      <td>csq</td>\n",
       "    </tr>\n",
       "    <tr>\n",
       "      <th>4</th>\n",
       "      <td>0</td>\n",
       "      <td>você está me convidando para sair. isso é tão ...</td>\n",
       "      <td>cmq</td>\n",
       "    </tr>\n",
       "  </tbody>\n",
       "</table>\n",
       "</div>"
      ],
      "text/plain": [
       "  Unnamed: 0                                           Conversa Label\n",
       "0          0  podemos fazer isso rápido? roxanne korrine e a...   cmq\n",
       "1          1  bem, eu pensei que começaríamos com a pronúnci...   cma\n",
       "2          2  não o hacking e engasgos e cuspir parte. por f...   cms\n",
       "3          3  ok, então que tal experimentarmos uma cozinha ...   csq\n",
       "4          0  você está me convidando para sair. isso é tão ...   cmq"
      ]
     },
     "execution_count": 5,
     "metadata": {},
     "output_type": "execute_result"
    }
   ],
   "source": [
    "df.head()"
   ]
  },
  {
   "cell_type": "code",
   "execution_count": 6,
   "metadata": {
    "collapsed": true
   },
   "outputs": [],
   "source": [
    "tst = df[df.Label != '0']"
   ]
  },
  {
   "cell_type": "code",
   "execution_count": 7,
   "metadata": {},
   "outputs": [],
   "source": [
    "utterance = []\n",
    "allo = []\n",
    "tmpList = []\n",
    "for index, row in tst.iterrows():\n",
    "    allo.append(row['Conversa'])\n",
    "    if row['Unnamed: 0'] == '0':\n",
    "        if len(tmpList) != 0:\n",
    "            utterance.append(tmpList)\n",
    "            tmpList = []\n",
    "    \n",
    "    tmpList.append({'Conversa': row['Conversa'], 'Label': row['Label']})\n",
    "    #tmpList.append([row['Conversa'], row['Label']])\n",
    "        "
   ]
  },
  {
   "cell_type": "code",
   "execution_count": 61,
   "metadata": {},
   "outputs": [],
   "source": [
    "chars = list({l for word in allo for l in word})"
   ]
  },
  {
   "cell_type": "code",
   "execution_count": 63,
   "metadata": {},
   "outputs": [],
   "source": [
    "token_dict = {token:k for token, k in zip(chars, range(1,len(chars)+1))}"
   ]
  },
  {
   "cell_type": "code",
   "execution_count": 64,
   "metadata": {},
   "outputs": [
    {
     "data": {
      "text/plain": [
       "{'a': 1,\n",
       " 'ú': 2,\n",
       " 'v': 3,\n",
       " '3': 4,\n",
       " 'f': 5,\n",
       " 'g': 6,\n",
       " 'u': 7,\n",
       " 'ç': 8,\n",
       " 'ã': 9,\n",
       " 'ü': 10,\n",
       " '5': 11,\n",
       " '2': 12,\n",
       " 's': 13,\n",
       " 'q': 14,\n",
       " 'í': 15,\n",
       " 'i': 16,\n",
       " 'ê': 17,\n",
       " '4': 18,\n",
       " 'z': 19,\n",
       " 'l': 20,\n",
       " 'm': 21,\n",
       " 'é': 22,\n",
       " 'â': 23,\n",
       " 'w': 24,\n",
       " 'p': 25,\n",
       " '7': 26,\n",
       " ' ': 27,\n",
       " '.': 28,\n",
       " '-': 29,\n",
       " 'n': 30,\n",
       " ',': 31,\n",
       " 'e': 32,\n",
       " 'r': 33,\n",
       " 'y': 34,\n",
       " 'õ': 35,\n",
       " 'b': 36,\n",
       " 'd': 37,\n",
       " 'c': 38,\n",
       " 'ó': 39,\n",
       " '0': 40,\n",
       " 'h': 41,\n",
       " '\"': 42,\n",
       " '…': 43,\n",
       " 'o': 44,\n",
       " 'à': 45,\n",
       " 'j': 46,\n",
       " 'ô': 47,\n",
       " '!': 48,\n",
       " 'á': 49,\n",
       " 't': 50,\n",
       " 'k': 51,\n",
       " 'x': 52,\n",
       " '?': 53}"
      ]
     },
     "execution_count": 64,
     "metadata": {},
     "output_type": "execute_result"
    }
   ],
   "source": [
    "token_dict"
   ]
  },
  {
   "cell_type": "code",
   "execution_count": 65,
   "metadata": {},
   "outputs": [
    {
     "data": {
      "text/plain": [
       "{'a': 1,\n",
       " 'ú': 2,\n",
       " 'v': 3,\n",
       " '3': 4,\n",
       " 'f': 5,\n",
       " 'g': 6,\n",
       " 'u': 7,\n",
       " 'ç': 8,\n",
       " 'ã': 9,\n",
       " 'ü': 10,\n",
       " '5': 11,\n",
       " '2': 12,\n",
       " 's': 13,\n",
       " 'q': 14,\n",
       " 'í': 15,\n",
       " 'i': 16,\n",
       " 'ê': 17,\n",
       " '4': 18,\n",
       " 'z': 19,\n",
       " 'l': 20,\n",
       " 'm': 21,\n",
       " 'é': 22,\n",
       " 'â': 23,\n",
       " 'w': 24,\n",
       " 'p': 25,\n",
       " '7': 26,\n",
       " ' ': 27,\n",
       " '.': 28,\n",
       " '-': 29,\n",
       " 'n': 30,\n",
       " ',': 31,\n",
       " 'e': 32,\n",
       " 'r': 33,\n",
       " 'y': 34,\n",
       " 'õ': 35,\n",
       " 'b': 36,\n",
       " 'd': 37,\n",
       " 'c': 38,\n",
       " 'ó': 39,\n",
       " '0': 40,\n",
       " 'h': 41,\n",
       " '\"': 42,\n",
       " '…': 43,\n",
       " 'o': 44,\n",
       " 'à': 45,\n",
       " 'j': 46,\n",
       " 'ô': 47,\n",
       " '!': 48,\n",
       " 'á': 49,\n",
       " 't': 50,\n",
       " 'k': 51,\n",
       " 'x': 52,\n",
       " '?': 53,\n",
       " '<pad>': 0,\n",
       " '<end>': 54,\n",
       " '<start>': 55}"
      ]
     },
     "execution_count": 65,
     "metadata": {},
     "output_type": "execute_result"
    }
   ],
   "source": [
    "end_token = '<end>'\n",
    "start_decoding_token = '<start>'\n",
    "pad_token = '<pad>'\n",
    "\n",
    "\n",
    "token_dict[pad_token] = 0\n",
    "token_dict[end_token] = len(token_dict)\n",
    "token_dict[start_decoding_token] = len(token_dict)\n",
    "\n",
    "token_dict"
   ]
  },
  {
   "cell_type": "code",
   "execution_count": 66,
   "metadata": {},
   "outputs": [
    {
     "data": {
      "text/plain": [
       "{1: 'a',\n",
       " 2: 'ú',\n",
       " 3: 'v',\n",
       " 4: '3',\n",
       " 5: 'f',\n",
       " 6: 'g',\n",
       " 7: 'u',\n",
       " 8: 'ç',\n",
       " 9: 'ã',\n",
       " 10: 'ü',\n",
       " 11: '5',\n",
       " 12: '2',\n",
       " 13: 's',\n",
       " 14: 'q',\n",
       " 15: 'í',\n",
       " 16: 'i',\n",
       " 17: 'ê',\n",
       " 18: '4',\n",
       " 19: 'z',\n",
       " 20: 'l',\n",
       " 21: 'm',\n",
       " 22: 'é',\n",
       " 23: 'â',\n",
       " 24: 'w',\n",
       " 25: 'p',\n",
       " 26: '7',\n",
       " 27: ' ',\n",
       " 28: '.',\n",
       " 29: '-',\n",
       " 30: 'n',\n",
       " 31: ',',\n",
       " 32: 'e',\n",
       " 33: 'r',\n",
       " 34: 'y',\n",
       " 35: 'õ',\n",
       " 36: 'b',\n",
       " 37: 'd',\n",
       " 38: 'c',\n",
       " 39: 'ó',\n",
       " 40: '0',\n",
       " 41: 'h',\n",
       " 42: '\"',\n",
       " 43: '…',\n",
       " 44: 'o',\n",
       " 45: 'à',\n",
       " 46: 'j',\n",
       " 47: 'ô',\n",
       " 48: '!',\n",
       " 49: 'á',\n",
       " 50: 't',\n",
       " 51: 'k',\n",
       " 52: 'x',\n",
       " 53: '?',\n",
       " 0: '<pad>',\n",
       " 54: '<end>',\n",
       " 55: '<start>'}"
      ]
     },
     "execution_count": 66,
     "metadata": {},
     "output_type": "execute_result"
    }
   ],
   "source": [
    "decoder_dict = {token_dict[k]:k for k in token_dict.keys()}\n",
    "\n",
    "decoder_dict"
   ]
  },
  {
   "cell_type": "code",
   "execution_count": 15,
   "metadata": {},
   "outputs": [],
   "source": [
    "from torchnlp import text_encoders"
   ]
  },
  {
   "cell_type": "code",
   "execution_count": 17,
   "metadata": {},
   "outputs": [],
   "source": [
    "#CRIA UM ENCODER BASEADO EM TODAS AS PALAVRAS DO CORPUS\n",
    "encoder = text_encoders.StaticTokenizerEncoder(allo,tokenize = lambda s:s.split())"
   ]
  },
  {
   "cell_type": "code",
   "execution_count": 19,
   "metadata": {},
   "outputs": [
    {
     "data": {
      "text/plain": [
       "2491"
      ]
     },
     "execution_count": 19,
     "metadata": {},
     "output_type": "execute_result"
    }
   ],
   "source": [
    "len(encoder.vocab)"
   ]
  },
  {
   "cell_type": "code",
   "execution_count": 33,
   "metadata": {},
   "outputs": [
    {
     "data": {
      "text/plain": [
       "tensor([ 5,  6,  7,  8,  9, 10, 11, 12, 13, 14, 15, 16, 17, 18, 19, 20, 21, 22,\n",
       "        23])"
      ]
     },
     "execution_count": 33,
     "metadata": {},
     "output_type": "execute_result"
    }
   ],
   "source": [
    "encoded = []\n",
    "gen = (i for i in allo)\n",
    "encoded.append(encoder.encode(gen.__next__()))\n",
    "\n",
    "encoded[0]"
   ]
  },
  {
   "cell_type": "code",
   "execution_count": 42,
   "metadata": {},
   "outputs": [],
   "source": [
    "encoded = [encoder.encode(linha) for linha in allo]"
   ]
  },
  {
   "cell_type": "code",
   "execution_count": 47,
   "metadata": {},
   "outputs": [
    {
     "data": {
      "text/plain": [
       "tensor([ 5,  6,  7,  8,  9, 10, 11, 12, 13, 14, 15, 16, 17, 18, 19, 20, 21, 22,\n",
       "        23])"
      ]
     },
     "execution_count": 47,
     "metadata": {},
     "output_type": "execute_result"
    }
   ],
   "source": [
    "encoded[0]"
   ]
  },
  {
   "cell_type": "code",
   "execution_count": 48,
   "metadata": {},
   "outputs": [],
   "source": [
    "labels = []\n",
    "for index, row in tst.iterrows():\n",
    "    labels.append(row['Label'])"
   ]
  },
  {
   "cell_type": "code",
   "execution_count": null,
   "metadata": {},
   "outputs": [],
   "source": []
  }
 ],
 "metadata": {
  "kernelspec": {
   "display_name": "Python 3",
   "language": "python",
   "name": "python3"
  },
  "language_info": {
   "codemirror_mode": {
    "name": "ipython",
    "version": 3
   },
   "file_extension": ".py",
   "mimetype": "text/x-python",
   "name": "python",
   "nbconvert_exporter": "python",
   "pygments_lexer": "ipython3",
   "version": "3.6.5"
  }
 },
 "nbformat": 4,
 "nbformat_minor": 2
}
